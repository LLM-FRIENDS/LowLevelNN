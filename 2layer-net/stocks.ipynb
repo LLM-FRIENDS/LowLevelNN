{
 "cells": [
  {
   "cell_type": "code",
   "execution_count": 1,
   "metadata": {},
   "outputs": [],
   "source": [
    "import yfinance as yf\n",
    "import numpy as np\n",
    "import pandas as pd\n",
    "from net import NeuralNetwork\n",
    "from sklearn.model_selection import train_test_split\n",
    "from sklearn.preprocessing import StandardScaler"
   ]
  },
  {
   "cell_type": "code",
   "execution_count": 2,
   "metadata": {},
   "outputs": [],
   "source": [
    "def fetch_data(ticker, period='10y'):\n",
    "    data = yf.download(ticker, period=period, interval='1d')\n",
    "    return data\n",
    "\n",
    "def preprocess_data(data):\n",
    "    df = data.copy()\n",
    "    df['MA5'] = df['Close'].rolling(window=5).mean()\n",
    "    df['MA10'] = df['Close'].rolling(window=10).mean()\n",
    "    delta = df['Close'].diff()\n",
    "    gain = (delta.where(delta > 0, 0)).rolling(window=14).mean()\n",
    "    loss = (-delta.where(delta < 0, 0)).rolling(window=14).mean()\n",
    "    rs = gain / loss\n",
    "    df['RSI'] = 100 - (100 / (1 + rs))\n",
    "    df.dropna(inplace=True)\n",
    "    df['Target'] = (df['Close'].shift(-1) > df['Close']).astype(int)\n",
    "    X = df[['MA5', 'MA10', 'RSI']].values  # Shape: (n_samples, 3)\n",
    "    y = df['Target'].values.reshape(1, -1)  # Shape: (1, n_samples)\n",
    "    return X.T, y  # X.T: (3, n_samples), y: (1, n_samples)"
   ]
  },
  {
   "cell_type": "code",
   "execution_count": 6,
   "metadata": {},
   "outputs": [
    {
     "name": "stderr",
     "output_type": "stream",
     "text": [
      "[*********************100%***********************]  1 of 1 completed"
     ]
    },
    {
     "name": "stdout",
     "output_type": "stream",
     "text": [
      "X_train shape: (3, 2003)\n",
      "y_train shape: (1, 2003)\n",
      "X_test shape: (3, 501)\n",
      "y_test shape: (1, 501)\n",
      "[0 1 1 1 0]\n"
     ]
    },
    {
     "name": "stderr",
     "output_type": "stream",
     "text": [
      "\n"
     ]
    }
   ],
   "source": [
    "# Testing data preparation\n",
    "ticker = 'AAPL'\n",
    "learning_rate = 0.01\n",
    "epochs = 10000\n",
    "batch_size = 64  # Define your mini-batch size\n",
    "\n",
    "data = fetch_data(ticker)\n",
    "\n",
    "X, y = preprocess_data(data)  # X.shape: (3, n_samples), y.shape: (1, n_samples)\n",
    "\n",
    "X_train, X_test, y_train, y_test = train_test_split(\n",
    "    X.T, y.T, test_size=0.2, random_state=42\n",
    ")\n",
    "\n",
    "X_train = X_train.T  # (3, m_train)\n",
    "X_test = X_test.T    # (3, m_test)\n",
    "y_train = y_train.T  # (1, m_train)\n",
    "y_test = y_test.T    # (1, m_test)\n",
    "\n",
    "print(f\"X_train shape: {X_train.shape}\")  # Should be (3, m_train)\n",
    "print(f\"y_train shape: {y_train.shape}\")  # Should be (1, m_train)\n",
    "print(f\"X_test shape: {X_test.shape}\")    # Should be (3, m_test)\n",
    "print(f\"y_test shape: {y_test.shape}\")    # Should be (1, m_test)\n",
    "\n",
    "#print first values of y train first columns\n",
    "print(y_train[0][:5])\n"
   ]
  },
  {
   "cell_type": "code",
   "execution_count": 16,
   "metadata": {},
   "outputs": [
    {
     "name": "stderr",
     "output_type": "stream",
     "text": [
      "[*********************100%***********************]  1 of 1 completed\n"
     ]
    },
    {
     "name": "stdout",
     "output_type": "stream",
     "text": [
      "Initial X shape: (3, 2504)\n",
      "Initial y shape: (1, 2504)\n",
      "X_train shape: (3, 2003)\n",
      "y_train shape: (1, 2003)\n",
      "X_test shape: (3, 501)\n",
      "y_test shape: (1, 501)\n",
      "Scaled X_train shape: (3, 2003)\n",
      "Scaled X_test shape: (3, 501)\n",
      "Initial Test Accuracy: 47.11%\n",
      "Epoch 0, Loss: 0.250661\n",
      "Epoch 100, Loss: 0.249252\n",
      "Epoch 200, Loss: 0.249233\n",
      "Epoch 300, Loss: 0.249217\n",
      "Epoch 400, Loss: 0.249201\n",
      "Epoch 500, Loss: 0.249196\n",
      "Epoch 600, Loss: 0.249172\n",
      "Epoch 700, Loss: 0.249154\n",
      "Epoch 800, Loss: 0.249138\n",
      "Epoch 900, Loss: 0.249123\n",
      "Test Accuracy: 52.50%\n"
     ]
    }
   ],
   "source": [
    "ticker = 'AAPL'\n",
    "learning_rate = 0.1\n",
    "epochs = 1000\n",
    "batch_size = 256  # Define your mini-batch size\n",
    "\n",
    "data = fetch_data(ticker)\n",
    "if data.empty:\n",
    "    print(\"Failed to fetch data. Please check the ticker symbol and try again.\")\n",
    "    exit()\n",
    "\n",
    "X, y = preprocess_data(data)\n",
    "\n",
    "# Print initial shapes\n",
    "print(f\"Initial X shape: {X.shape}\")  # Expected: (3, m)\n",
    "print(f\"Initial y shape: {y.shape}\")  # Expected: (1, m)\n",
    "\n",
    "# Split into training and testing sets\n",
    "X_train, X_test, y_train, y_test = train_test_split(\n",
    "    X.T, y.T, test_size=0.2, random_state=42\n",
    ")\n",
    "\n",
    "# Transpose back to (input_dim, m_train) and (output_dim, m_train)\n",
    "X_train = X_train.T  # Shape: (3, m_train)\n",
    "X_test = X_test.T    # Shape: (3, m_test)\n",
    "y_train = y_train.T  # Shape: (1, m_train)\n",
    "y_test = y_test.T    # Shape: (1, m_test)\n",
    "\n",
    "# Print shapes after split\n",
    "print(f\"X_train shape: {X_train.shape}\")  # Expected: (3, m_train)\n",
    "print(f\"y_train shape: {y_train.shape}\")  # Expected: (1, m_train)\")\n",
    "print(f\"X_test shape: {X_test.shape}\")    # Expected: (3, m_test)\n",
    "print(f\"y_test shape: {y_test.shape}\")    # Expected: (1, m_test)\")\n",
    "\n",
    "scaler = StandardScaler()\n",
    "# Transpose to fit scaler and then transpose back\n",
    "X_train = scaler.fit_transform(X_train.T).T  # Shape: (3, m_train)\n",
    "X_test = scaler.transform(X_test.T).T        # Shape: (3, m_test)\n",
    "\n",
    "# Print shapes after scaling\n",
    "print(f\"Scaled X_train shape: {X_train.shape}\")  # Expected: (3, m_train)\n",
    "print(f\"Scaled X_test shape: {X_test.shape}\")    # Expected: (3, m_test)\n",
    "\n",
    "input_dim = X_train.shape[0]\n",
    "hidden_dim = 50\n",
    "output_dim = 1\n",
    "nn = NeuralNetwork(input_dim, hidden_dim, output_dim)\n",
    "\n",
    "#initial accuracy, before training\n",
    "predictions = nn.forward_propagation(X_test)\n",
    "predictions = (predictions > 0.5).astype(int)\n",
    "accuracy = np.mean(predictions == y_test) * 100\n",
    "print(f\"Initial Test Accuracy: {accuracy:.2f}%\")\n",
    "\n",
    "# Train using Mini-Batch Gradient Descent\n",
    "nn.train_mini_batch(\n",
    "    X_train,\n",
    "    y_train,\n",
    "    learning_rate=learning_rate,\n",
    "    epochs=epochs,\n",
    "    batch_size=batch_size\n",
    ")\n",
    "\n",
    "# Test the network\n",
    "predictions = nn.forward_propagation(X_test)\n",
    "predictions = (predictions > 0.5).astype(int)\n",
    "\n",
    "accuracy = np.mean(predictions == y_test) * 100\n",
    "print(f\"Test Accuracy: {accuracy:.2f}%\")"
   ]
  }
 ],
 "metadata": {
  "kernelspec": {
   "display_name": "slackenv",
   "language": "python",
   "name": "python3"
  },
  "language_info": {
   "codemirror_mode": {
    "name": "ipython",
    "version": 3
   },
   "file_extension": ".py",
   "mimetype": "text/x-python",
   "name": "python",
   "nbconvert_exporter": "python",
   "pygments_lexer": "ipython3",
   "version": "3.10.13"
  }
 },
 "nbformat": 4,
 "nbformat_minor": 2
}
