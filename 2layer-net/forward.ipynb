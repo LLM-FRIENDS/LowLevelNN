{
 "cells": [
  {
   "cell_type": "code",
   "execution_count": 1,
   "metadata": {},
   "outputs": [],
   "source": [
    "import numpy as np\n",
    "import matplotlib.pyplot as plt"
   ]
  },
  {
   "cell_type": "code",
   "execution_count": 2,
   "metadata": {},
   "outputs": [],
   "source": [
    "#neural network with 2 layers\n",
    "#input dim: n\n",
    "#hidden dim: h\n",
    "#output dim: m\n",
    "#weight names: W1, W2, b1, b2\n",
    "#only forward pass, no backprop or optimization"
   ]
  },
  {
   "cell_type": "code",
   "execution_count": 3,
   "metadata": {},
   "outputs": [],
   "source": [
    "def sigmoid(x):\n",
    "    return 1 / (1 + np.exp(-x))\n",
    "\n",
    "def initialize_parameters(n, h, m):\n",
    "    W1 = np.random.randn(h, n) * 0.01\n",
    "    b1 = np.zeros((h, 1))\n",
    "    W2 = np.random.randn(m, h) * 0.01\n",
    "    b2 = np.zeros((m, 1))\n",
    "    return W1, b1, W2, b2"
   ]
  },
  {
   "cell_type": "code",
   "execution_count": 4,
   "metadata": {},
   "outputs": [],
   "source": [
    "def forward_propagation(X, W1, b1, W2, b2):\n",
    "    Z1 = np.dot(W1, X) + b1\n",
    "    A1 = sigmoid(Z1)\n",
    "    Z2 = np.dot(W2, A1) + b2\n",
    "    A2 = sigmoid(Z2)\n",
    "    return A2"
   ]
  },
  {
   "cell_type": "code",
   "execution_count": 5,
   "metadata": {},
   "outputs": [],
   "source": [
    "n=3\n",
    "h=4\n",
    "m=2\n",
    "W1, b1, W2, b2 = initialize_parameters(n, h, m)"
   ]
  },
  {
   "cell_type": "code",
   "execution_count": 6,
   "metadata": {},
   "outputs": [
    {
     "name": "stdout",
     "output_type": "stream",
     "text": [
      "input: \n",
      "[[1]\n",
      " [2]\n",
      " [3]]\n",
      "\n",
      "W1: \n",
      "[[ 0.00872187 -0.00642343 -0.00828707]\n",
      " [-0.00257475 -0.00075582  0.0026696 ]\n",
      " [ 0.00834702  0.01073868  0.00547152]\n",
      " [ 0.00513007 -0.01896269  0.01181082]]\n",
      "\n",
      "b1: \n",
      "[[0.]\n",
      " [0.]\n",
      " [0.]\n",
      " [0.]]\n",
      "\n",
      "W2: \n",
      "[[-0.00425925  0.0099721   0.0095782  -0.00700058]\n",
      " [-0.01172937  0.00325412  0.02203171  0.01388054]]\n",
      "\n",
      "b2: \n",
      "[[0.]\n",
      " [0.]]\n",
      "\n",
      "output: \n",
      "[[0.50107299]\n",
      " [0.50351756]]\n"
     ]
    }
   ],
   "source": [
    "X = np.array([[1], [2], [3]])\n",
    "print(f\"input: \\n{X}\")\n",
    "print(f\"\\nW1: \\n{W1}\")\n",
    "print(f\"\\nb1: \\n{b1}\")\n",
    "print(f\"\\nW2: \\n{W2}\")\n",
    "print(f\"\\nb2: \\n{b2}\")\n",
    "\n",
    "A2 = forward_propagation(X, W1, b1, W2, b2)\n",
    "print(f\"\\noutput: \\n{A2}\")"
   ]
  },
  {
   "cell_type": "code",
   "execution_count": 7,
   "metadata": {},
   "outputs": [
    {
     "name": "stdout",
     "output_type": "stream",
     "text": [
      "\n",
      "output: \n",
      "[[0.50064027]\n",
      " [0.49749162]]\n"
     ]
    }
   ],
   "source": [
    "class NeuralNetwork:\n",
    "    def __init__(self, input_dim, hidden_dim, output_dim):\n",
    "        self.W1 = np.random.randn(hidden_dim, input_dim) * 0.01\n",
    "        self.b1 = np.zeros((hidden_dim, 1))\n",
    "        self.W2 = np.random.randn(output_dim, hidden_dim) * 0.01\n",
    "        self.b2 = np.zeros((output_dim, 1))\n",
    "\n",
    "    def sigmoid(self, x):\n",
    "        return 1 / (1 + np.exp(-x))\n",
    "\n",
    "    def forward_propagation(self, X):\n",
    "        Z1 = np.dot(self.W1, X) + self.b1\n",
    "        A1 = self.sigmoid(Z1)\n",
    "        Z2 = np.dot(self.W2, A1) + self.b2\n",
    "        A2 = self.sigmoid(Z2)\n",
    "        return A2\n",
    "\n",
    "# Example usage:    \n",
    "nn = NeuralNetwork(n, h, m)\n",
    "X = np.array([[1], [2], [3]])\n",
    "A2 = nn.forward_propagation(X)\n",
    "print(f\"\\noutput: \\n{A2}\")"
   ]
  }
 ],
 "metadata": {
  "kernelspec": {
   "display_name": "slackenv",
   "language": "python",
   "name": "python3"
  },
  "language_info": {
   "codemirror_mode": {
    "name": "ipython",
    "version": 3
   },
   "file_extension": ".py",
   "mimetype": "text/x-python",
   "name": "python",
   "nbconvert_exporter": "python",
   "pygments_lexer": "ipython3",
   "version": "3.10.13"
  }
 },
 "nbformat": 4,
 "nbformat_minor": 2
}
