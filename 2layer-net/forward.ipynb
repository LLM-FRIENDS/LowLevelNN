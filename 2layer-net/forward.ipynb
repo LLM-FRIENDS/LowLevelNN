{
 "cells": [
  {
   "cell_type": "code",
   "execution_count": 1,
   "metadata": {},
   "outputs": [],
   "source": [
    "import numpy as np\n",
    "import matplotlib.pyplot as plt"
   ]
  },
  {
   "cell_type": "code",
   "execution_count": 2,
   "metadata": {},
   "outputs": [],
   "source": [
    "#neural network with 2 layers\n",
    "#input dim: n\n",
    "#hidden dim: h\n",
    "#output dim: m\n",
    "#weight names: W1, W2, b1, b2\n",
    "#only forward pass, no backprop or optimization"
   ]
  },
  {
   "cell_type": "code",
   "execution_count": 3,
   "metadata": {},
   "outputs": [],
   "source": [
    "def sigmoid(x):\n",
    "    return 1 / (1 + np.exp(-x))\n",
    "\n",
    "def initialize_parameters(n, h, m):\n",
    "    W1 = np.random.randn(h, n) * 0.01\n",
    "    b1 = np.zeros((h, 1))\n",
    "    W2 = np.random.randn(m, h) * 0.01\n",
    "    b2 = np.zeros((m, 1))\n",
    "    return W1, b1, W2, b2"
   ]
  },
  {
   "cell_type": "code",
   "execution_count": 4,
   "metadata": {},
   "outputs": [],
   "source": [
    "def forward_propagation(X, W1, b1, W2, b2):\n",
    "    Z1 = np.dot(W1, X) + b1 #Pre-activation for hidden layer\n",
    "    A1 = sigmoid(Z1) #Activation for hidden layer\n",
    "    Z2 = np.dot(W2, A1) + b2 #Pre-activation for output layer\n",
    "    A2 = sigmoid(Z2) #Activation for output layer\n",
    "    return A2"
   ]
  },
  {
   "cell_type": "code",
   "execution_count": 5,
   "metadata": {},
   "outputs": [],
   "source": [
    "n=3\n",
    "h=4\n",
    "m=2\n",
    "W1, b1, W2, b2 = initialize_parameters(n, h, m)"
   ]
  },
  {
   "cell_type": "code",
   "execution_count": 6,
   "metadata": {},
   "outputs": [
    {
     "name": "stdout",
     "output_type": "stream",
     "text": [
      "input: \n",
      "[[1]\n",
      " [2]\n",
      " [3]]\n",
      "\n",
      "W1: \n",
      "[[ 0.00981303  0.01585497  0.01186899]\n",
      " [-0.00881274  0.00131904  0.01867075]\n",
      " [ 0.00370062 -0.01034216 -0.00856549]\n",
      " [-0.00361477  0.00362122  0.0183238 ]]\n",
      "\n",
      "b1: \n",
      "[[0.]\n",
      " [0.]\n",
      " [0.]\n",
      " [0.]]\n",
      "\n",
      "W2: \n",
      "[[ 0.00310995 -0.01212324  0.00416025  0.00622956]\n",
      " [-0.00467616 -0.01106564 -0.00118378  0.00604035]]\n",
      "\n",
      "b2: \n",
      "[[0.]\n",
      " [0.]]\n",
      "\n",
      "output: \n",
      "[[0.50016101]\n",
      " [0.49860763]]\n"
     ]
    }
   ],
   "source": [
    "X = np.array([[1], [2], [3]])\n",
    "print(f\"input: \\n{X}\")\n",
    "print(f\"\\nW1: \\n{W1}\")\n",
    "print(f\"\\nb1: \\n{b1}\")\n",
    "print(f\"\\nW2: \\n{W2}\")\n",
    "print(f\"\\nb2: \\n{b2}\")\n",
    "\n",
    "A2 = forward_propagation(X, W1, b1, W2, b2)\n",
    "print(f\"\\noutput: \\n{A2}\")"
   ]
  },
  {
   "cell_type": "code",
   "execution_count": 9,
   "metadata": {},
   "outputs": [
    {
     "name": "stdout",
     "output_type": "stream",
     "text": [
      "\n",
      "output: \n",
      "[[0.50140531]\n",
      " [0.50022979]]\n"
     ]
    }
   ],
   "source": [
    "class NeuralNetwork:\n",
    "    def __init__(self, input_dim, hidden_dim, output_dim):\n",
    "        self.W1 = np.random.randn(hidden_dim, input_dim) * 0.01\n",
    "        self.b1 = np.zeros((hidden_dim, 1))\n",
    "        self.W2 = np.random.randn(output_dim, hidden_dim) * 0.01\n",
    "        self.b2 = np.zeros((output_dim, 1))\n",
    "\n",
    "    def sigmoid(self, x):\n",
    "        return 1 / (1 + np.exp(-x))\n",
    "\n",
    "    def forward_propagation(self, X):\n",
    "        Z1 = np.dot(self.W1, X) + self.b1\n",
    "        A1 = self.sigmoid(Z1)\n",
    "        Z2 = np.dot(self.W2, A1) + self.b2\n",
    "        A2 = self.sigmoid(Z2)\n",
    "        return A2\n",
    "\n",
    "# Example usage:    \n",
    "nn = NeuralNetwork(n, h, m)\n",
    "X = np.array([[1],\n",
    "              [5],\n",
    "              [3]])\n",
    "A2 = nn.forward_propagation(X)\n",
    "print(f\"\\noutput: \\n{A2}\")"
   ]
  }
 ],
 "metadata": {
  "kernelspec": {
   "display_name": "slackenv",
   "language": "python",
   "name": "python3"
  },
  "language_info": {
   "codemirror_mode": {
    "name": "ipython",
    "version": 3
   },
   "file_extension": ".py",
   "mimetype": "text/x-python",
   "name": "python",
   "nbconvert_exporter": "python",
   "pygments_lexer": "ipython3",
   "version": "3.10.13"
  }
 },
 "nbformat": 4,
 "nbformat_minor": 2
}
