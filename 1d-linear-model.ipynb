{
 "cells": [
  {
   "cell_type": "code",
   "execution_count": null,
   "metadata": {},
   "outputs": [],
   "source": [
    "import matplotlib.pyplot as plt\n",
    "import random\n",
    "import numpy as np"
   ]
  },
  {
   "cell_type": "code",
   "execution_count": null,
   "metadata": {},
   "outputs": [],
   "source": [
    "x=[1,4,5,6,7,10,15]\n",
    "y=[2,6,3,6,7,8,9]\n",
    "\n",
    "plt.scatter(x,y)\n",
    "plt.show()"
   ]
  },
  {
   "cell_type": "code",
   "execution_count": null,
   "metadata": {},
   "outputs": [],
   "source": [
    "def model(w,x):\n",
    "    y_hat=w*x\n",
    "    return y_hat"
   ]
  },
  {
   "cell_type": "code",
   "execution_count": null,
   "metadata": {},
   "outputs": [],
   "source": [
    "#prediction with random w\n",
    "w=0.2\n",
    "y_hat=[model(w,i) for i in x]\n",
    "\n",
    "plt.scatter(x,y)\n",
    "plt.plot(x,y_hat)\n",
    "plt.show()"
   ]
  },
  {
   "cell_type": "code",
   "execution_count": null,
   "metadata": {},
   "outputs": [],
   "source": [
    "def loss(w,X,Y):\n",
    "    n = len(X)\n",
    "    loss=0\n",
    "    for i in range(n):\n",
    "        loss_i = (model(w,X[i])-Y[i])**2\n",
    "        loss += 1/n*loss_i\n",
    "    return loss"
   ]
  },
  {
   "cell_type": "code",
   "execution_count": null,
   "metadata": {},
   "outputs": [],
   "source": [
    "#come varia il loss al variare di w?\n",
    "w_range=(-0.5,2)\n",
    "n=100\n",
    "w_values=np.linspace(w_range[0],w_range[1],n)\n",
    "loss_values=[loss(w,x,y) for w in w_values]\n",
    "\n",
    "plt.plot(w_values,loss_values)\n",
    "plt.show()"
   ]
  },
  {
   "cell_type": "code",
   "execution_count": null,
   "metadata": {},
   "outputs": [],
   "source": [
    "def dl_dw(w,X,Y):\n",
    "    n = len(X)\n",
    "    dl_dw = 0\n",
    "    for i in range(n):\n",
    "        dl_dw_i = 2*w*X[i]**2 - 2*X[i]*Y[i]\n",
    "        dl_dw += 1/n*dl_dw_i\n",
    "    return dl_dw"
   ]
  },
  {
   "cell_type": "code",
   "execution_count": null,
   "metadata": {},
   "outputs": [],
   "source": [
    "#come varia la derivata del loss al variare di w?\n",
    "dl_dw_values=[dl_dw(w,x,y) for w in w_values]\n",
    "\n",
    "plt.plot(w_values,dl_dw_values)\n",
    "plt.show()"
   ]
  },
  {
   "cell_type": "code",
   "execution_count": null,
   "metadata": {},
   "outputs": [],
   "source": [
    "def train(w,X,Y,lr,epochs):\n",
    "    for epoch in range(epochs):\n",
    "        w = w - lr*dl_dw(w,X,Y)\n",
    "        print('epoch:',epoch,'loss:',loss(w,X,Y))\n",
    "    return w"
   ]
  },
  {
   "cell_type": "code",
   "execution_count": null,
   "metadata": {},
   "outputs": [],
   "source": [
    "#inizio con w=0.2\n",
    "w=0.2\n",
    "lr=0.001\n",
    "\n",
    "plt.scatter(x,y)\n",
    "y_hat=[model(w,i) for i in x]\n",
    "plt.plot(x,y_hat)\n",
    "plt.show()"
   ]
  },
  {
   "cell_type": "code",
   "execution_count": null,
   "metadata": {},
   "outputs": [],
   "source": [
    "#train con lr=0.01 e 10 epochs\n",
    "w=train(w,x,y,lr,3)\n",
    "\n",
    "plt.scatter(x,y)\n",
    "y_hat=[model(w,i) for i in x]\n",
    "plt.plot(x,y_hat)\n",
    "plt.show()\n",
    "\n",
    "print('w:',w)"
   ]
  }
 ],
 "metadata": {
  "kernelspec": {
   "display_name": "slackenv",
   "language": "python",
   "name": "python3"
  },
  "language_info": {
   "codemirror_mode": {
    "name": "ipython",
    "version": 3
   },
   "file_extension": ".py",
   "mimetype": "text/x-python",
   "name": "python",
   "nbconvert_exporter": "python",
   "pygments_lexer": "ipython3",
   "version": "3.10.13"
  }
 },
 "nbformat": 4,
 "nbformat_minor": 2
}
